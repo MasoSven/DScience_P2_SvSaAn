{
 "cells": [
  {
   "cell_type": "code",
   "execution_count": 1,
   "id": "1619612a-c704-4d20-965b-cdfe180796d5",
   "metadata": {},
   "outputs": [],
   "source": [
    "import pandas as pd\n",
    "import datetime\n",
    "import matplotlib.pyplot as plt\n",
    "import seaborn as sns\n",
    "pd.set_option('display.float_format', lambda x: '%.2f' % x)\n",
    "pd.set_option('display.max_rows', 1000)\n",
    "\n",
    "Path = r'E:/Users/Sven Maso/github/DScience_P2_SvSaAn/'\n",
    "products = pd.read_csv(Path + 'products.csv')\n",
    "orders = pd.read_csv(Path + 'orders.csv')\n",
    "brands = pd.read_csv(Path + 'brands.csv')\n",
    "orderlines = pd.read_csv(Path + 'orderlines.csv')\n",
    "df_list = [orderlines, orders, brands, products]\n",
    "files = ['orderlines','orders','brands','products']\n",
    "\n",
    "def check_missing_values(data): \n",
    "    print('Missing values:' + '\\n' + str(data.isna().sum()))\n",
    "def check_duplicates(data): \n",
    "    print('Duplicated rows: ', data.duplicated().sum())"
   ]
  },
  {
   "cell_type": "markdown",
   "id": "15efec27-8151-4921-a0c9-15b3b7207a63",
   "metadata": {},
   "source": [
    "# Here we clean our Data"
   ]
  },
  {
   "cell_type": "code",
   "execution_count": 2,
   "id": "c2137f24-729f-4f31-b333-03646dcd4fbe",
   "metadata": {},
   "outputs": [
    {
     "name": "stdout",
     "output_type": "stream",
     "text": [
      "File name: orderlines\n",
      "\n",
      "\n",
      "Missing values:\n",
      "id                  0\n",
      "id_order            0\n",
      "product_id          0\n",
      "product_quantity    0\n",
      "sku                 0\n",
      "unit_price          0\n",
      "date                0\n",
      "dtype: int64\n",
      "\n",
      "\n",
      "Duplicated rows:  0\n",
      "\n",
      "\n",
      "<class 'pandas.core.frame.DataFrame'>\n",
      "RangeIndex: 293983 entries, 0 to 293982\n",
      "Data columns (total 7 columns):\n",
      " #   Column            Non-Null Count   Dtype \n",
      "---  ------            --------------   ----- \n",
      " 0   id                293983 non-null  int64 \n",
      " 1   id_order          293983 non-null  int64 \n",
      " 2   product_id        293983 non-null  int64 \n",
      " 3   product_quantity  293983 non-null  int64 \n",
      " 4   sku               293983 non-null  object\n",
      " 5   unit_price        293983 non-null  object\n",
      " 6   date              293983 non-null  object\n",
      "dtypes: int64(4), object(3)\n",
      "memory usage: 15.7+ MB\n",
      "\n",
      " \n",
      "\n",
      "File name: orders\n",
      "\n",
      "\n",
      "Missing values:\n",
      "order_id        0\n",
      "created_date    0\n",
      "total_paid      5\n",
      "state           0\n",
      "dtype: int64\n",
      "\n",
      "\n",
      "Duplicated rows:  0\n",
      "\n",
      "\n",
      "<class 'pandas.core.frame.DataFrame'>\n",
      "RangeIndex: 226909 entries, 0 to 226908\n",
      "Data columns (total 4 columns):\n",
      " #   Column        Non-Null Count   Dtype  \n",
      "---  ------        --------------   -----  \n",
      " 0   order_id      226909 non-null  int64  \n",
      " 1   created_date  226909 non-null  object \n",
      " 2   total_paid    226904 non-null  float64\n",
      " 3   state         226909 non-null  object \n",
      "dtypes: float64(1), int64(1), object(2)\n",
      "memory usage: 6.9+ MB\n",
      "\n",
      " \n",
      "\n",
      "File name: brands\n",
      "\n",
      "\n",
      "Missing values:\n",
      "short    0\n",
      "long     0\n",
      "dtype: int64\n",
      "\n",
      "\n",
      "Duplicated rows:  0\n",
      "\n",
      "\n",
      "<class 'pandas.core.frame.DataFrame'>\n",
      "RangeIndex: 187 entries, 0 to 186\n",
      "Data columns (total 2 columns):\n",
      " #   Column  Non-Null Count  Dtype \n",
      "---  ------  --------------  ----- \n",
      " 0   short   187 non-null    object\n",
      " 1   long    187 non-null    object\n",
      "dtypes: object(2)\n",
      "memory usage: 3.0+ KB\n",
      "\n",
      " \n",
      "\n",
      "File name: products\n",
      "\n",
      "\n",
      "Missing values:\n",
      "sku             0\n",
      "name            0\n",
      "desc            7\n",
      "price          46\n",
      "promo_price     0\n",
      "in_stock        0\n",
      "type           50\n",
      "dtype: int64\n",
      "\n",
      "\n",
      "Duplicated rows:  8746\n",
      "\n",
      "\n",
      "<class 'pandas.core.frame.DataFrame'>\n",
      "RangeIndex: 19326 entries, 0 to 19325\n",
      "Data columns (total 7 columns):\n",
      " #   Column       Non-Null Count  Dtype \n",
      "---  ------       --------------  ----- \n",
      " 0   sku          19326 non-null  object\n",
      " 1   name         19326 non-null  object\n",
      " 2   desc         19319 non-null  object\n",
      " 3   price        19280 non-null  object\n",
      " 4   promo_price  19326 non-null  object\n",
      " 5   in_stock     19326 non-null  int64 \n",
      " 6   type         19276 non-null  object\n",
      "dtypes: int64(1), object(6)\n",
      "memory usage: 1.0+ MB\n",
      "\n",
      " \n",
      "\n"
     ]
    }
   ],
   "source": [
    "for i in range(len(df_list)):     \n",
    "    print(f'File name: {files[i]}')\n",
    "    print('\\n')\n",
    "    check_missing_values(df_list[i])\n",
    "    print('\\n')\n",
    "    check_duplicates(df_list[i])\n",
    "    print('\\n')\n",
    "    df_list[i].info()\n",
    "    print('\\n', '\\n')"
   ]
  },
  {
   "cell_type": "markdown",
   "id": "0982b5d3-0607-4b49-8bed-a809aa41e08f",
   "metadata": {},
   "source": [
    "### Here is the order.csv cleaning"
   ]
  },
  {
   "cell_type": "code",
   "execution_count": 3,
   "id": "5b4b5d77",
   "metadata": {
    "tags": []
   },
   "outputs": [
    {
     "data": {
      "text/html": [
       "<div>\n",
       "<style scoped>\n",
       "    .dataframe tbody tr th:only-of-type {\n",
       "        vertical-align: middle;\n",
       "    }\n",
       "\n",
       "    .dataframe tbody tr th {\n",
       "        vertical-align: top;\n",
       "    }\n",
       "\n",
       "    .dataframe thead th {\n",
       "        text-align: right;\n",
       "    }\n",
       "</style>\n",
       "<table border=\"1\" class=\"dataframe\">\n",
       "  <thead>\n",
       "    <tr style=\"text-align: right;\">\n",
       "      <th></th>\n",
       "      <th>order_id</th>\n",
       "      <th>created_date</th>\n",
       "      <th>total_paid</th>\n",
       "      <th>state</th>\n",
       "    </tr>\n",
       "  </thead>\n",
       "  <tbody>\n",
       "    <tr>\n",
       "      <th>127701</th>\n",
       "      <td>427314</td>\n",
       "      <td>2017-11-20 18:54:39</td>\n",
       "      <td>NaN</td>\n",
       "      <td>Pending</td>\n",
       "    </tr>\n",
       "    <tr>\n",
       "      <th>132013</th>\n",
       "      <td>431655</td>\n",
       "      <td>2017-11-22 12:15:24</td>\n",
       "      <td>NaN</td>\n",
       "      <td>Pending</td>\n",
       "    </tr>\n",
       "    <tr>\n",
       "      <th>147316</th>\n",
       "      <td>447411</td>\n",
       "      <td>2017-11-27 10:32:37</td>\n",
       "      <td>NaN</td>\n",
       "      <td>Pending</td>\n",
       "    </tr>\n",
       "    <tr>\n",
       "      <th>148833</th>\n",
       "      <td>448966</td>\n",
       "      <td>2017-11-27 18:54:15</td>\n",
       "      <td>NaN</td>\n",
       "      <td>Pending</td>\n",
       "    </tr>\n",
       "    <tr>\n",
       "      <th>149434</th>\n",
       "      <td>449596</td>\n",
       "      <td>2017-11-27 21:52:08</td>\n",
       "      <td>NaN</td>\n",
       "      <td>Pending</td>\n",
       "    </tr>\n",
       "  </tbody>\n",
       "</table>\n",
       "</div>"
      ],
      "text/plain": [
       "        order_id         created_date  total_paid    state\n",
       "127701    427314  2017-11-20 18:54:39         NaN  Pending\n",
       "132013    431655  2017-11-22 12:15:24         NaN  Pending\n",
       "147316    447411  2017-11-27 10:32:37         NaN  Pending\n",
       "148833    448966  2017-11-27 18:54:15         NaN  Pending\n",
       "149434    449596  2017-11-27 21:52:08         NaN  Pending"
      ]
     },
     "execution_count": 3,
     "metadata": {},
     "output_type": "execute_result"
    }
   ],
   "source": [
    "orders.loc[orders['total_paid'].isna()]"
   ]
  },
  {
   "cell_type": "code",
   "execution_count": 4,
   "id": "24793d4a-6f37-4bbc-af42-78e2ca40d101",
   "metadata": {},
   "outputs": [],
   "source": [
    "orders.dropna(inplace=True)"
   ]
  },
  {
   "cell_type": "code",
   "execution_count": 5,
   "id": "c3c46213-bbe5-4cef-9434-3defaca7acd0",
   "metadata": {},
   "outputs": [],
   "source": [
    "orders['created_date'] = pd.to_datetime(orders['created_date'])"
   ]
  },
  {
   "cell_type": "code",
   "execution_count": 21,
   "id": "f818e698-9d20-4635-9fe5-5a822dd247d6",
   "metadata": {},
   "outputs": [
    {
     "name": "stdout",
     "output_type": "stream",
     "text": [
      "        order_id         created_date  total_paid            state\n",
      "0         241319  2017-01-02 13:35:40       44.99        Cancelled\n",
      "1         241423  2017-11-06 13:10:02      136.15        Completed\n",
      "2         242832  2017-12-31 17:40:03       15.76        Completed\n",
      "3         243330  2017-02-16 10:59:38       84.98        Completed\n",
      "4         243784  2017-11-24 13:35:19      157.86        Cancelled\n",
      "...          ...                  ...         ...              ...\n",
      "226899    527397  2018-03-14 13:56:38       42.99      Place Order\n",
      "226900    527398  2018-03-14 13:57:25       42.99  Shopping Basket\n",
      "226901    527399  2018-03-14 13:57:34      141.58  Shopping Basket\n",
      "226902    527400  2018-03-14 13:57:41       19.98  Shopping Basket\n",
      "226903    527401  2018-03-14 13:58:36       18.98      Place Order\n",
      "\n",
      "[226904 rows x 4 columns]\n",
      "Empty DataFrame\n",
      "Columns: [order_id, created_date, total_paid, state]\n",
      "Index: []\n"
     ]
    }
   ],
   "source": [
    "orders.to_csv(Path + 'orders_cl.csv', index=False)\n",
    "orders_cl = pd.read_csv('orders_cl.csv')\n",
    "print(orders_cl)\n",
    "print(orders_cl.loc[orders_cl['total_paid'].isna()])"
   ]
  },
  {
   "cell_type": "code",
   "execution_count": 13,
   "id": "2c8c32b1-3c24-416a-904d-910a0d20f7a9",
   "metadata": {
    "tags": []
   },
   "outputs": [
    {
     "name": "stdout",
     "output_type": "stream",
     "text": [
      "None\n"
     ]
    }
   ],
   "source": [
    "#orders_cl.loc[orders_cl['total_paid'].isna()]"
   ]
  },
  {
   "cell_type": "markdown",
   "id": "7a4d245f-81b8-4b2e-b881-985a8ec67163",
   "metadata": {},
   "source": [
    "### Here is the orderline.csv cleaning"
   ]
  },
  {
   "cell_type": "code",
   "execution_count": 13,
   "id": "22460512",
   "metadata": {},
   "outputs": [],
   "source": [
    "orderlines['date'] = pd.to_datetime(orderlines['date'])"
   ]
  }
 ],
 "metadata": {
  "kernelspec": {
   "display_name": "Python 3 (ipykernel)",
   "language": "python",
   "name": "python3"
  },
  "language_info": {
   "codemirror_mode": {
    "name": "ipython",
    "version": 3
   },
   "file_extension": ".py",
   "mimetype": "text/x-python",
   "name": "python",
   "nbconvert_exporter": "python",
   "pygments_lexer": "ipython3",
   "version": "3.9.7"
  }
 },
 "nbformat": 4,
 "nbformat_minor": 5
}
